{
  "cells": [
    {
      "cell_type": "code",
      "execution_count": null,
      "id": "993fb283-a24a-4487-b089-e22a2c6ae407",
      "metadata": {
        "id": "993fb283-a24a-4487-b089-e22a2c6ae407"
      },
      "outputs": [],
      "source": [
        "# Homework: train a Nonlinear Classifier\n"
      ]
    },
    {
      "cell_type": "markdown",
      "source": [
        "# Homework: train a Nonlinear Classifier"
      ],
      "metadata": {
        "id": "QO8E51MJ7RhD"
      },
      "id": "QO8E51MJ7RhD"
    },
    {
      "cell_type": "markdown",
      "source": [
        "#### Clare Yijia Xie\n",
        "#### Email: clarexie@g.harvard.edu\n",
        "#### Github username: clarexie98\n",
        "#### Affiliation:\n",
        "- PhD student\n",
        "- Material Science & Mechanical Engineering\n",
        "- Materials Intelligence Research (MIR) Group\n",
        "- School of Engineering and Applied Sciences, Harvard University"
      ],
      "metadata": {
        "id": "eBVF8xZf7eWK"
      },
      "id": "eBVF8xZf7eWK"
    }
  ],
  "metadata": {
    "kernelspec": {
      "display_name": "Python 3",
      "language": "python",
      "name": "python3"
    },
    "language_info": {
      "codemirror_mode": {
        "name": "ipython",
        "version": 3
      },
      "file_extension": ".py",
      "mimetype": "text/x-python",
      "name": "python",
      "nbconvert_exporter": "python",
      "pygments_lexer": "ipython3",
      "version": "3.9.15"
    },
    "colab": {
      "provenance": []
    }
  },
  "nbformat": 4,
  "nbformat_minor": 5
}